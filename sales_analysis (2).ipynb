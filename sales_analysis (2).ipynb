{
 "cells": [
  {
   "cell_type": "markdown",
   "id": "6097e667",
   "metadata": {},
   "source": [
    "# 📊 Sales Data Analysis\n",
    "Analyze sales data using Pandas, Matplotlib, and Seaborn."
   ]
  },
  {
   "cell_type": "code",
   "execution_count": null,
   "id": "2cb21bc9",
   "metadata": {},
   "outputs": [],
   "source": [
    "import pandas as pd\n",
    "import matplotlib.pyplot as plt\n",
    "import seaborn as sns\n",
    "sns.set(style=\"whitegrid\")"
   ]
  },
  {
   "cell_type": "code",
   "execution_count": null,
   "id": "58eeedc5",
   "metadata": {},
   "outputs": [],
   "source": [
    "# Load the CSV\n",
    "df = pd.read_csv(\"sales.csv\")\n",
    "df.head()"
   ]
  },
  {
   "cell_type": "code",
   "execution_count": null,
   "id": "7f962108",
   "metadata": {},
   "outputs": [],
   "source": [
    "# Check info\n",
    "df.info()"
   ]
  },
  {
   "cell_type": "code",
   "execution_count": null,
   "id": "866d4622",
   "metadata": {},
   "outputs": [],
   "source": [
    "# Add Total Sales column\n",
    "df[\"Total_Sales\"] = df[\"Quantity\"] * df[\"Unit_Price\"]\n",
    "df.head()"
   ]
  },
  {
   "cell_type": "code",
   "execution_count": null,
   "id": "b1a01d53",
   "metadata": {},
   "outputs": [],
   "source": [
    "# Sales by Product\n",
    "product_sales = df.groupby(\"Product\")[\"Total_Sales\"].sum().reset_index()\n",
    "plt.figure(figsize=(8,5))\n",
    "sns.barplot(x=\"Product\", y=\"Total_Sales\", data=product_sales)\n",
    "plt.title(\"Total Sales by Product\")\n",
    "plt.show()"
   ]
  },
  {
   "cell_type": "code",
   "execution_count": null,
   "id": "b0e5f4c3",
   "metadata": {},
   "outputs": [],
   "source": [
    "# Sales by Region\n",
    "region_sales = df.groupby(\"Region\")[\"Total_Sales\"].sum().reset_index()\n",
    "plt.figure(figsize=(8,5))\n",
    "sns.barplot(x=\"Region\", y=\"Total_Sales\", data=region_sales)\n",
    "plt.title(\"Total Sales by Region\")\n",
    "plt.show()"
   ]
  },
  {
   "cell_type": "code",
   "execution_count": null,
   "id": "8bffaddf",
   "metadata": {},
   "outputs": [],
   "source": [
    "# Daily Sales Trend\n",
    "df[\"Date\"] = pd.to_datetime(df[\"Date\"])\n",
    "daily_sales = df.groupby(\"Date\")[\"Total_Sales\"].sum()\n",
    "plt.figure(figsize=(10,5))\n",
    "daily_sales.plot()\n",
    "plt.title(\"Daily Sales Trend\")\n",
    "plt.xlabel(\"Date\")\n",
    "plt.ylabel(\"Total Sales\")\n",
    "plt.show()"
   ]
  }
 ],
 "metadata": {},
 "nbformat": 4,
 "nbformat_minor": 5
}
